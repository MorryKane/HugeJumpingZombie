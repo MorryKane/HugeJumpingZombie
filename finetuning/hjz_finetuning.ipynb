{
 "cells": [
  {
   "cell_type": "markdown",
   "metadata": {},
   "source": [
    "## 上传文件"
   ]
  },
  {
   "cell_type": "code",
   "execution_count": 31,
   "metadata": {},
   "outputs": [
    {
     "name": "stdout",
     "output_type": "stream",
     "text": [
      "FileObject(id='file-1PoMg6Khx2fe1sc1dBDziL', bytes=52157, created_at=1740557147, filename='hjz_fine_tuning_dataset.jsonl', object='file', purpose='fine-tune', status='processed', status_details=None, expires_at=None)\n"
     ]
    }
   ],
   "source": [
    "from openai import OpenAI\n",
    "\n",
    "client = OpenAI(\n",
    "    api_key=\"hidden api key\"\n",
    ")\n",
    "\n",
    "uploaded_file = client.files.create(\n",
    "  file=open(\"hjz_fine_tuning_dataset.jsonl\", \"rb\"),\n",
    "  purpose=\"fine-tune\"\n",
    ")\n",
    "\n",
    "print(uploaded_file)"
   ]
  },
  {
   "cell_type": "markdown",
   "metadata": {},
   "source": [
    "## 创建微调任务"
   ]
  },
  {
   "cell_type": "code",
   "execution_count": 33,
   "metadata": {},
   "outputs": [
    {
     "data": {
      "text/plain": [
       "FineTuningJob(id='ftjob-Th8WFWnZWF38fjTHyMcfsKe1', created_at=1740557198, error=Error(code=None, message=None, param=None), fine_tuned_model=None, finished_at=None, hyperparameters=Hyperparameters(batch_size='auto', learning_rate_multiplier='auto', n_epochs='auto'), model='gpt-4o-2024-08-06', object='fine_tuning.job', organization_id='org-zVEUtkATt40mFSAeRowopASm', result_files=[], seed=1648897910, status='validating_files', trained_tokens=None, training_file='file-1PoMg6Khx2fe1sc1dBDziL', validation_file=None, estimated_finish=None, integrations=[], method=Method(dpo=None, supervised=MethodSupervised(hyperparameters=MethodSupervisedHyperparameters(batch_size='auto', learning_rate_multiplier='auto', n_epochs='auto')), type='supervised'), user_provided_suffix=None)"
      ]
     },
     "execution_count": 33,
     "metadata": {},
     "output_type": "execute_result"
    }
   ],
   "source": [
    "client.fine_tuning.jobs.create(\n",
    "    training_file=\"file-1PoMg6Khx2fe1sc1dBDziL\", model=\"gpt-4o-2024-08-06\"\n",
    ")"
   ]
  },
  {
   "cell_type": "markdown",
   "metadata": {},
   "source": [
    "## 打印微调任务状态"
   ]
  },
  {
   "cell_type": "code",
   "execution_count": 76,
   "metadata": {},
   "outputs": [
    {
     "name": "stdout",
     "output_type": "stream",
     "text": [
      "The job has successfully completed\n",
      "New fine-tuned model created\n",
      "Checkpoint created at step 106\n",
      "Checkpoint created at step 53\n",
      "Step 159/159: training loss=0.69\n",
      "Step 158/159: training loss=0.53\n",
      "Step 157/159: training loss=0.27\n",
      "Step 156/159: training loss=0.11\n",
      "Step 155/159: training loss=0.67\n",
      "Step 154/159: training loss=0.45\n",
      "Step 153/159: training loss=0.39\n",
      "Step 152/159: training loss=0.31\n",
      "Step 151/159: training loss=0.35\n",
      "Step 150/159: training loss=0.18\n",
      "Step 149/159: training loss=0.55\n",
      "Step 148/159: training loss=0.49\n",
      "Step 147/159: training loss=0.13\n",
      "Step 146/159: training loss=0.46\n",
      "Step 145/159: training loss=0.22\n",
      "Step 144/159: training loss=0.38\n"
     ]
    }
   ],
   "source": [
    "events = client.fine_tuning.jobs.list_events(\n",
    "  fine_tuning_job_id=\"ftjob-Th8WFWnZWF38fjTHyMcfsKe1\",\n",
    ")\n",
    "\n",
    "for data in events.data:\n",
    "    print(data.message)"
   ]
  },
  {
   "cell_type": "markdown",
   "metadata": {},
   "source": [
    "## 获取最新一个模型名称"
   ]
  },
  {
   "cell_type": "code",
   "execution_count": 77,
   "metadata": {},
   "outputs": [
    {
     "name": "stdout",
     "output_type": "stream",
     "text": [
      "SyncCursorPage[FineTuningJob](data=[FineTuningJob(id='ftjob-Th8WFWnZWF38fjTHyMcfsKe1', created_at=1740557198, error=Error(code=None, message=None, param=None), fine_tuned_model='ft:gpt-4o-2024-08-06:personal::B56tSE3Q', finished_at=1740557836, hyperparameters=Hyperparameters(batch_size=1, learning_rate_multiplier=2.0, n_epochs=3), model='gpt-4o-2024-08-06', object='fine_tuning.job', organization_id='org-zVEUtkATt40mFSAeRowopASm', result_files=['file-9ZCq7phrvQCa41iLZB2D7U'], seed=1648897910, status='succeeded', trained_tokens=22740, training_file='file-1PoMg6Khx2fe1sc1dBDziL', validation_file=None, estimated_finish=None, integrations=[], method=Method(dpo=None, supervised=MethodSupervised(hyperparameters=MethodSupervisedHyperparameters(batch_size=1, learning_rate_multiplier=2.0, n_epochs=3)), type='supervised'), user_provided_suffix=None), FineTuningJob(id='ftjob-8DcbeViQJMBOE4JVXW2lSxkK', created_at=1740538785, error=Error(code=None, message=None, param=None), fine_tuned_model='ft:gpt-4o-mini-2024-07-18:personal::B522fMTb', finished_at=1740539187, hyperparameters=Hyperparameters(batch_size=1, learning_rate_multiplier=1.8, n_epochs=3), model='gpt-4o-mini-2024-07-18', object='fine_tuning.job', organization_id='org-zVEUtkATt40mFSAeRowopASm', result_files=['file-MZWYBBZtvoMqKBuMTpsugC'], seed=586625971, status='succeeded', trained_tokens=25257, training_file='file-5rSwuJtC5JWv6GbBushauy', validation_file=None, estimated_finish=None, integrations=[], method=Method(dpo=None, supervised=MethodSupervised(hyperparameters=MethodSupervisedHyperparameters(batch_size=1, learning_rate_multiplier=1.8, n_epochs=3)), type='supervised'), user_provided_suffix=None)], object='list', has_more=False)\n"
     ]
    }
   ],
   "source": [
    "job = client.fine_tuning.jobs.list(limit=10)\n",
    "print(job)\n"
   ]
  },
  {
   "cell_type": "markdown",
   "metadata": {},
   "source": [
    "## 对话demo"
   ]
  },
  {
   "cell_type": "markdown",
   "metadata": {},
   "source": [
    "### 执行这个单元格开始一轮新对话"
   ]
  },
  {
   "cell_type": "code",
   "execution_count": 96,
   "metadata": {},
   "outputs": [],
   "source": [
    "conversation = [\n",
    "    {\"role\": \"system\", \"content\": \"You are a helpful assistant. You need to instruct the user on how to operate the Android phone step by step.\"}\n",
    "]\n"
   ]
  },
  {
   "cell_type": "markdown",
   "metadata": {},
   "source": [
    "### 每轮对话中修改user_input, 然后执行该单元格"
   ]
  },
  {
   "cell_type": "code",
   "execution_count": 103,
   "metadata": {},
   "outputs": [
    {
     "name": "stdout",
     "output_type": "stream",
     "text": [
      "system: You are a helpful assistant. You need to instruct the user on how to operate the Android phone step by step.\n",
      "user: I want to free some space on my phone\n",
      "assistant: First, open the Settings app on your Android device.\n",
      "user: I have opened it, what's next?\n",
      "assistant: Scroll down and tap on 'Storage'.\n",
      "user: I did not found storage, what should I do?\n",
      "assistant: It might be labeled as 'Device Care' or 'Device Maintenance' on some phones.\n",
      "user: I saw device maintance and entered it. What should I do next?\n",
      "assistant: Now, tap on 'Storage' to view the breakdown of your used and available space.\n",
      "user: I can see the detail of my space. How can I free up space?\n",
      "assistant: Tap on 'Clean Now' or select unused apps and files to delete them.\n",
      "user: I cannot see clean now button, but there is a 'unused apps' button\n",
      "assistant: Great! Tap on 'Unused Apps' to review and delete any apps you no longer need.\n",
      "user: I have uninstalled the unused app, thank you !\n",
      "assistant: You're welcome! Let me know if you need more help.\n"
     ]
    }
   ],
   "source": [
    "user_input = \"I have uninstalled the unused app, thank you !\" \n",
    "conversation.append({\"role\": \"user\", \"content\": user_input})\n",
    "\n",
    "completion = client.chat.completions.create(\n",
    "    model=\"ft:gpt-4o-2024-08-06:personal::B56tSE3Q\",\n",
    "    messages=conversation\n",
    ")\n",
    "assistant_reply = completion.choices[0].message\n",
    "\n",
    "conversation.append({\"role\": \"assistant\", \"content\": assistant_reply.content})\n",
    "\n",
    "for conversation_item in conversation:\n",
    "    print(conversation_item[\"role\"] + \": \" + conversation_item[\"content\"])"
   ]
  }
 ],
 "metadata": {
  "kernelspec": {
   "display_name": "hjz",
   "language": "python",
   "name": "python3"
  },
  "language_info": {
   "codemirror_mode": {
    "name": "ipython",
    "version": 3
   },
   "file_extension": ".py",
   "mimetype": "text/x-python",
   "name": "python",
   "nbconvert_exporter": "python",
   "pygments_lexer": "ipython3",
   "version": "3.12.3"
  }
 },
 "nbformat": 4,
 "nbformat_minor": 2
}
